{
 "cells": [
  {
   "cell_type": "code",
   "execution_count": 10,
   "id": "3dcec522-3d1f-4d22-97f9-fc76f4fac624",
   "metadata": {},
   "outputs": [],
   "source": [
    "import pandas as pd\n",
    "import matplotlib.pyplot as plt\n",
    "import matplotlib.dates as mdates\n",
    "from datetime import datetime, timedelta\n",
    "import math\n",
    "import numpy as np\n"
   ]
  },
  {
   "cell_type": "code",
   "execution_count": 11,
   "id": "26225428-ca61-41b7-af92-2663d761d267",
   "metadata": {},
   "outputs": [
    {
     "name": "stdout",
     "output_type": "stream",
     "text": [
      "date    datetime64[ns]\n",
      "gen1            object\n",
      "gen2            object\n",
      "gen3            object\n",
      "gen4            object\n",
      "dtype: object\n"
     ]
    }
   ],
   "source": [
    "# 1. Cargar el CSV\n",
    "CALFILE = '/home/jmrobles/Podcasts/Coffee Break/CB - Hoja de ayuda.csv'\n",
    "df = pd.read_csv(CALFILE, \n",
    "                 header=None, \n",
    "                 delimiter=';', \n",
    "                 names=['date', 'gen1', 'gen2', 'gen3', 'gen4'])\n",
    "df['date'] = pd.to_datetime(\n",
    "    df['date'],\n",
    "    format='%d/%m/%y',\n",
    ")\n",
    "print(df.dtypes)"
   ]
  },
  {
   "cell_type": "code",
   "execution_count": 15,
   "id": "307fb817-be1f-4de0-bbd7-9997afd104a1",
   "metadata": {},
   "outputs": [
    {
     "name": "stdout",
     "output_type": "stream",
     "text": [
      "date       datetime64[ns]\n",
      "episode             int64\n",
      "dtype: object\n",
      "        date  episode\n",
      "0 2015-04-17        1\n",
      "1 2015-04-23        2\n",
      "2 2015-04-30        3\n",
      "3 2015-05-07        4\n",
      "4 2015-05-14        5\n"
     ]
    }
   ],
   "source": [
    "dates = (\n",
    "    df['date']\n",
    "    .drop_duplicates()\n",
    "    .sort_values()\n",
    "    .reset_index(drop=True)\n",
    ")\n",
    "\n",
    "new_df = pd.DataFrame({\n",
    "    'date': dates,\n",
    "    'episode': dates.index + 1  # índice 0->1, 1->2, ..., n->n+1\n",
    "})\n",
    "\n",
    "# Comprobación de tipos y contenidos\n",
    "print(new_df.dtypes)\n",
    "print(new_df.head())"
   ]
  },
  {
   "cell_type": "code",
   "execution_count": 18,
   "id": "f7c68137-6cd0-4986-9a36-cea35c717c7a",
   "metadata": {},
   "outputs": [],
   "source": [
    "CALCSVFNAME = '~/Podcasts/Coffee Break/cbcal.csv'\n",
    "new_df.to_csv(CALCSVFNAME, index=False)"
   ]
  },
  {
   "cell_type": "code",
   "execution_count": null,
   "id": "7ef89572-1c69-421d-a2e7-3d76f1cc9d1c",
   "metadata": {},
   "outputs": [],
   "source": []
  }
 ],
 "metadata": {
  "kernelspec": {
   "display_name": "Python 3 (ipykernel)",
   "language": "python",
   "name": "python3"
  },
  "language_info": {
   "codemirror_mode": {
    "name": "ipython",
    "version": 3
   },
   "file_extension": ".py",
   "mimetype": "text/x-python",
   "name": "python",
   "nbconvert_exporter": "python",
   "pygments_lexer": "ipython3",
   "version": "3.12.9"
  }
 },
 "nbformat": 4,
 "nbformat_minor": 5
}
