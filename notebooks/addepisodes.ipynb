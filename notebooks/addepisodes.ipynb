{
 "cells": [
  {
   "cell_type": "code",
   "execution_count": 1,
   "id": "6387b17d",
   "metadata": {},
   "outputs": [],
   "source": [
    "import sys\n",
    "import os\n",
    "\n",
    "sys.path.append(os.path.abspath(\"../tools\"))\n",
    "from envvars import load_env_vars_from_directory\n",
    "import numpy as np\n",
    "import pandas as pd\n",
    "import faiss\n",
    "import glob\n",
    "import re\n",
    "import pysrt\n",
    "import requests\n",
    "from urllib.parse import urljoin"
   ]
  },
  {
   "cell_type": "code",
   "execution_count": 2,
   "id": "f4c0dcc8",
   "metadata": {},
   "outputs": [],
   "source": [
    "# Variables de entorno\n",
    "# Cargar variables de entorno desde archivos .env\n",
    "load_env_vars_from_directory(\"../.env\")\n",
    "\n",
    "# Comprobar si las variables de entorno necesarias están definidas\n",
    "faiss_file = os.getenv('STTCAST_FAISS_FILE')\n",
    "if not faiss_file:\n",
    "    raise ValueError(\"STTCAST_FAISS_FILE environment variable is not set.\")\n",
    "if not os.path.exists(faiss_file):\n",
    "    raise FileNotFoundError(f\"Faiss file '{faiss_file}' does not exist.\")\n",
    "db_file = os.getenv('STTCAST_DB_FILE')\n",
    "if not db_file:\n",
    "    raise ValueError(\"STTCAST_DB_FILE environment variable is not set.\")\n",
    "if not os.path.exists(db_file):\n",
    "    raise FileNotFoundError(f\"Database file '{db_file}' does not exist.\")\n",
    "cal_file =os.getenv('PODCAST_CAL_FILE')\n",
    "if not cal_file:\n",
    "    raise ValueError(\"PODCAST_CAL_FILE environment variable is not set.\")\n",
    "if not os.path.exists(cal_file):\n",
    "    raise FileNotFoundError(f\"Calendar '{cal_file}' does not exist.\")\n",
    "workdir = os.getenv('PODCAST_WORKDIR')\n",
    "if not workdir:\n",
    "    raise ValueError(\"PODCAST_WORKDIR environment variable is not set.\")\n",
    "if not os.path.exists(workdir):\n",
    "    raise FileNotFoundError(f\"Work directory '{workdir}' does not exist.\")\n",
    "prefix = os.getenv('PODCAST_PREFIX')\n",
    "if not prefix:\n",
    "    raise ValueError(\"PODCAST_PREFIX environment variable is not set.\")\n",
    "context_server_host = os.getenv('CONTEXT_SERVER_HOST')\n",
    "if not context_server_host:\n",
    "    raise ValueError(\"CONTEXT_SERVER_HOST environment variable is not set.\")\n",
    "context_server_port = int(os.getenv('CONTEXT_SERVER_PORT'))\n",
    "if not context_server_port:\n",
    "    raise ValueError(\"CONTEXT_SERVER_PORT environment variable is not set or invalid.\")\n",
    "context_server_url = f\"http://{context_server_host}:{context_server_port}/\"\n",
    "if not context_server_url:\n",
    "    raise ValueError(\"CONTEXT_SERVER_URL environment variable is not set.\")"
   ]
  },
  {
   "cell_type": "code",
   "execution_count": 3,
   "id": "5244dddc",
   "metadata": {},
   "outputs": [
    {
     "data": {
      "text/html": [
       "<div>\n",
       "<style scoped>\n",
       "    .dataframe tbody tr th:only-of-type {\n",
       "        vertical-align: middle;\n",
       "    }\n",
       "\n",
       "    .dataframe tbody tr th {\n",
       "        vertical-align: top;\n",
       "    }\n",
       "\n",
       "    .dataframe thead th {\n",
       "        text-align: right;\n",
       "    }\n",
       "</style>\n",
       "<table border=\"1\" class=\"dataframe\">\n",
       "  <thead>\n",
       "    <tr style=\"text-align: right;\">\n",
       "      <th></th>\n",
       "      <th>date</th>\n",
       "    </tr>\n",
       "    <tr>\n",
       "      <th>episode</th>\n",
       "      <th></th>\n",
       "    </tr>\n",
       "  </thead>\n",
       "  <tbody>\n",
       "    <tr>\n",
       "      <th>1</th>\n",
       "      <td>2015-04-17</td>\n",
       "    </tr>\n",
       "    <tr>\n",
       "      <th>2</th>\n",
       "      <td>2015-04-23</td>\n",
       "    </tr>\n",
       "    <tr>\n",
       "      <th>3</th>\n",
       "      <td>2015-04-30</td>\n",
       "    </tr>\n",
       "    <tr>\n",
       "      <th>4</th>\n",
       "      <td>2015-05-07</td>\n",
       "    </tr>\n",
       "    <tr>\n",
       "      <th>5</th>\n",
       "      <td>2015-05-14</td>\n",
       "    </tr>\n",
       "    <tr>\n",
       "      <th>...</th>\n",
       "      <td>...</td>\n",
       "    </tr>\n",
       "    <tr>\n",
       "      <th>510</th>\n",
       "      <td>2025-05-01</td>\n",
       "    </tr>\n",
       "    <tr>\n",
       "      <th>511</th>\n",
       "      <td>2025-05-08</td>\n",
       "    </tr>\n",
       "    <tr>\n",
       "      <th>512</th>\n",
       "      <td>2025-05-15</td>\n",
       "    </tr>\n",
       "    <tr>\n",
       "      <th>513</th>\n",
       "      <td>2025-05-22</td>\n",
       "    </tr>\n",
       "    <tr>\n",
       "      <th>514</th>\n",
       "      <td>2025-05-29</td>\n",
       "    </tr>\n",
       "  </tbody>\n",
       "</table>\n",
       "<p>514 rows × 1 columns</p>\n",
       "</div>"
      ],
      "text/plain": [
       "              date\n",
       "episode           \n",
       "1       2015-04-17\n",
       "2       2015-04-23\n",
       "3       2015-04-30\n",
       "4       2015-05-07\n",
       "5       2015-05-14\n",
       "...            ...\n",
       "510     2025-05-01\n",
       "511     2025-05-08\n",
       "512     2025-05-15\n",
       "513     2025-05-22\n",
       "514     2025-05-29\n",
       "\n",
       "[514 rows x 1 columns]"
      ]
     },
     "execution_count": 3,
     "metadata": {},
     "output_type": "execute_result"
    }
   ],
   "source": [
    "# Leer el calendario de podcasts\n",
    "caldf = pd.read_csv(cal_file, parse_dates=[\"date\"], index_col=\"episode\" )\n",
    "caldf"
   ]
  },
  {
   "cell_type": "code",
   "execution_count": 4,
   "id": "91f073eb",
   "metadata": {},
   "outputs": [
    {
     "data": {
      "text/plain": [
       "['ep514_A', 'ep514_B']"
      ]
     },
     "execution_count": 4,
     "metadata": {},
     "output_type": "execute_result"
    }
   ],
   "source": [
    "mp3files = glob.glob(os.path.join(workdir, f\"{prefix}*mp3\"))\n",
    "for i in range(len(mp3files)):\n",
    "    mp3files[i] = os.path.basename(mp3files[i])[:-4]\n",
    "mp3files[:10]"
   ]
  },
  {
   "cell_type": "code",
   "execution_count": 5,
   "id": "41fc37ae",
   "metadata": {},
   "outputs": [
    {
     "data": {
      "text/plain": [
       "[514, 514]"
      ]
     },
     "execution_count": 5,
     "metadata": {},
     "output_type": "execute_result"
    }
   ],
   "source": [
    "epnumber_regex = re.compile(rf\"{prefix}(...).*\")\n",
    "def get_epnumber(epname):\n",
    "    global epnumber_regex\n",
    "    return int(re.search(epnumber_regex, epname).group(1))\n",
    "[get_epnumber(ep) for ep in mp3files]"
   ]
  },
  {
   "cell_type": "code",
   "execution_count": 6,
   "id": "44989e5a",
   "metadata": {},
   "outputs": [
    {
     "data": {
      "text/html": [
       "<div>\n",
       "<style scoped>\n",
       "    .dataframe tbody tr th:only-of-type {\n",
       "        vertical-align: middle;\n",
       "    }\n",
       "\n",
       "    .dataframe tbody tr th {\n",
       "        vertical-align: top;\n",
       "    }\n",
       "\n",
       "    .dataframe thead th {\n",
       "        text-align: right;\n",
       "    }\n",
       "</style>\n",
       "<table border=\"1\" class=\"dataframe\">\n",
       "  <thead>\n",
       "    <tr style=\"text-align: right;\">\n",
       "      <th></th>\n",
       "      <th>epnumber</th>\n",
       "      <th>epdate</th>\n",
       "    </tr>\n",
       "    <tr>\n",
       "      <th>epname</th>\n",
       "      <th></th>\n",
       "      <th></th>\n",
       "    </tr>\n",
       "  </thead>\n",
       "  <tbody>\n",
       "    <tr>\n",
       "      <th>ep514_A</th>\n",
       "      <td>514</td>\n",
       "      <td>2025-05-29</td>\n",
       "    </tr>\n",
       "    <tr>\n",
       "      <th>ep514_B</th>\n",
       "      <td>514</td>\n",
       "      <td>2025-05-29</td>\n",
       "    </tr>\n",
       "  </tbody>\n",
       "</table>\n",
       "</div>"
      ],
      "text/plain": [
       "         epnumber     epdate\n",
       "epname                      \n",
       "ep514_A       514 2025-05-29\n",
       "ep514_B       514 2025-05-29"
      ]
     },
     "execution_count": 6,
     "metadata": {},
     "output_type": "execute_result"
    }
   ],
   "source": [
    "epdf = pd.DataFrame(mp3files, columns=[\"epname\"])\n",
    "epdf[\"epnumber\"] = epdf[\"epname\"].apply(get_epnumber)\n",
    "\n",
    "epdf[\"epdate\"] = epdf[\"epnumber\"].apply(\n",
    "    lambda x: caldf.loc[x][\"date\"] if x in caldf.index else None\n",
    ")\n",
    "epdf.set_index(\"epname\", inplace=True)\n",
    "epdf"
   ]
  },
  {
   "cell_type": "code",
   "execution_count": 7,
   "id": "26b1f6c7",
   "metadata": {},
   "outputs": [],
   "source": [
    "textpat = re.compile(r'^\\[(?P<speaker>.*)\\]: *(?P<spoken>.*)')"
   ]
  },
  {
   "cell_type": "code",
   "execution_count": 8,
   "id": "72227edd",
   "metadata": {},
   "outputs": [
    {
     "name": "stdout",
     "output_type": "stream",
     "text": [
      "Número de intervenciones en ep514_A: 155\n",
      "Número de intervenciones en ep514_B: 332\n"
     ]
    }
   ],
   "source": [
    "\n",
    "epints = {}\n",
    "for epname in epdf.index:\n",
    "    epsrt = os.path.join(workdir, f\"{epname}_whisper_es.srt\")\n",
    "    if not os.path.exists(epsrt):\n",
    "        print(f\"Warning: SRT file for {epname} does not exist, skipping.\")\n",
    "        continue\n",
    "    epsubs = pysrt.open(epsrt, encoding='utf-8')\n",
    "    epints[epname] = []\n",
    "    for eps in epsubs:\n",
    "        m = re.match(textpat, eps.text)\n",
    "        if m is None:\n",
    "            print (f\"Fallo en parsear {eps.text}\")\n",
    "            continue\n",
    "        speaker = m.group('speaker')\n",
    "        spoken = m.group('spoken')\n",
    "        start = eps.start.ordinal/1_000\n",
    "        end = eps.end.ordinal/1_000\n",
    "        epints[epname].append({'tag': speaker, 'content': spoken, 'start': start, 'end': end})\n",
    "    print(f\"Número de intervenciones en {epname}: {len(epints[epname])}\")       "
   ]
  },
  {
   "cell_type": "code",
   "execution_count": 21,
   "id": "37abc1b4",
   "metadata": {},
   "outputs": [
    {
     "name": "stdout",
     "output_type": "stream",
     "text": [
      "Successfully added embeddings for ep514_A\n",
      "Successfully added embeddings for ep514_B\n"
     ]
    }
   ],
   "source": [
    "addsegments_path = \"/addsegments\"\n",
    "addsegments_url = urljoin(context_server_url, addsegments_path)\n",
    "for epname in epdf.index:\n",
    "    if epname not in epints:\n",
    "        print(f\"Warning: No interventions found for {epname}, skipping.\")\n",
    "        continue\n",
    "    payload = {\n",
    "        \"epname\": epname,\n",
    "        \"epdate\": epdf.loc[epname][\"epdate\"].isoformat(),\n",
    "        \"epfile\": f\"{prefix}{epname}.mp3\",\n",
    "        \"segments\": epints[epname]\n",
    "    }\n",
    "    try:\n",
    "        response = requests.post(addsegments_url, json=payload)\n",
    "        response.raise_for_status()\n",
    "        print(f\"Successfully added embeddings for {epname}\")\n",
    "    except requests.RequestException as e:\n",
    "        print(f\"Error adding embeddings for {epname}: {e}\")\n",
    "        continue\n",
    "   "
   ]
  },
  {
   "cell_type": "code",
   "execution_count": null,
   "id": "1aaf9ca2",
   "metadata": {},
   "outputs": [],
   "source": []
  }
 ],
 "metadata": {
  "kernelspec": {
   "display_name": ".venv",
   "language": "python",
   "name": "python3"
  },
  "language_info": {
   "codemirror_mode": {
    "name": "ipython",
    "version": 3
   },
   "file_extension": ".py",
   "mimetype": "text/x-python",
   "name": "python",
   "nbconvert_exporter": "python",
   "pygments_lexer": "ipython3",
   "version": "3.12.9"
  }
 },
 "nbformat": 4,
 "nbformat_minor": 5
}
