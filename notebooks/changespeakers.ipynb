{
 "cells": [
  {
   "cell_type": "code",
   "execution_count": 1,
   "id": "35f0311d",
   "metadata": {},
   "outputs": [],
   "source": [
    "from bs4 import BeautifulSoup, Comment\n",
    "import os\n",
    "import sys\n",
    "import re\n",
    "sys.path.append('..')\n",
    "from dateestimation import DateEstimation \n",
    "from tools.envvars import load_env_vars_from_directory"
   ]
  },
  {
   "cell_type": "code",
   "execution_count": 2,
   "id": "b9ac87ab",
   "metadata": {},
   "outputs": [
    {
     "name": "stdout",
     "output_type": "stream",
     "text": [
      "Using calendar file: /home/jmrobles/Podcasts/Coffee Break/DB/cbcal.csv\n",
      "Using podcast prefix: ep\n",
      "Using templates directory: /home/jmrobles/Podcasts/Coffee Break/templates\n",
      "Using work directory: /home/jmrobles/Podcasts/Coffee Break/\n",
      "Using CSS file: /home/jmrobles/Podcasts/Coffee Break/templates/podcast.css\n"
     ]
    }
   ],
   "source": [
    "load_env_vars_from_directory('../.env')\n",
    "cal_file =os.getenv('PODCAST_CAL_FILE')\n",
    "if not cal_file:\n",
    "    raise ValueError(\"PODCAST_CAL_FILE environment variable is not set.\")\n",
    "if not os.path.exists(cal_file):\n",
    "    raise FileNotFoundError(f\"Calendar '{cal_file}' does not exist.\")\n",
    "\n",
    "prefix = os.getenv('PODCAST_PREFIX')\n",
    "if not prefix:\n",
    "    raise ValueError(\"PODCAST_PREFIX environment variable is not set.\")\n",
    "\n",
    "templates = os.getenv('PODCAST_TEMPLATES', '../templates')\n",
    "css = os.path.join(templates, 'podcast.css')\n",
    "if not os.path.exists(css):\n",
    "    raise FileNotFoundError(f\"CSS file '{css}' does not exist.\")\n",
    "\n",
    "workdir = os.getenv('PODCAST_WORKDIR', '../workdir')\n",
    "if not os.path.exists(workdir):\n",
    "    raise FileNotFoundError(f\"Work directory '{workdir}' does not exist.\")\n",
    "\n",
    "print(f\"Using calendar file: {cal_file}\")\n",
    "print(f\"Using podcast prefix: {prefix}\")\n",
    "print(f\"Using templates directory: {templates}\")\n",
    "print(f\"Using work directory: {workdir}\")\n",
    "print(f\"Using CSS file: {css}\")"
   ]
  },
  {
   "cell_type": "code",
   "execution_count": 3,
   "id": "41d4393c",
   "metadata": {},
   "outputs": [
    {
     "name": "stdout",
     "output_type": "stream",
     "text": [
      "'2025-02-23 Sttcast - Diarization - Coffee Break - Comprobación.ods'\n",
      " Archivo\n",
      " bw\n",
      "'CB - Hoja de ayuda.csv'\n",
      "'CB - Hoja de ayuda.ods'\n",
      " DB\n",
      " ep521_A.meta\n",
      " ep521_A.mp3\n",
      " ep521_A_vosk_audio_es.html\n",
      " ep521_A_vosk_es.html\n",
      " ep521_A_whisper_audio_en.html\n",
      " ep521_A_whisper_audio_es.html\n",
      " ep521_A_whisper_en.html\n",
      " ep521_A_whisper_en.srt\n",
      " ep521_A_whisper_es.html\n",
      " ep521_A_whisper_es.srt\n",
      " ep521_B.meta\n",
      " ep521_B.mp3\n",
      " ep521_B_vosk_audio_es.html\n",
      " ep521_B_vosk_es.html\n",
      " ep521_B_whisper_audio_en.html\n",
      " ep521_B_whisper_audio_es.html\n",
      " ep521_B_whisper_en.html\n",
      " ep521_B_whisper_en.srt\n",
      " ep521_B_whisper_es.html\n",
      " ep521_B_whisper_es.srt\n",
      " Especiales\n",
      " Ok\n",
      " ParaEstudiar\n",
      " Pendiente\n",
      " Sonetos\n",
      " speakingtimes.csv\n",
      " speakingtimes.csv.old\n",
      " Summaries\n",
      " Summaries.old\n",
      " templates\n",
      " Test\n",
      " Tmp\n",
      " ToSummarize\n",
      " training513.meta\n",
      " training513.mp3\n",
      " training513_vosk_audio_es.html\n",
      " training513_vosk_es.html\n",
      " training513_whisper_audio_en.html\n",
      " training513_whisper_audio_es.html\n",
      " training513_whisper_en.html\n",
      " training513_whisper_en.srt\n",
      " training513_whisper_es.html\n",
      " training513_whisper_es.srt\n",
      " training.meta\n",
      " training.mp3\n",
      " training_vosk_audio_es.html\n",
      " training_vosk_es.html\n",
      " trtest.meta\n",
      " trtest.mp3\n",
      " trtest_vosk_audio_es.html\n",
      " trtest_vosk_es.html\n",
      " trtest_whisper_audio_en.html\n",
      " trtest_whisper_audio_es.html\n",
      " trtest_whisper_en.html\n",
      " trtest_whisper_en.srt\n",
      " trtest_whisper_es.html\n",
      " trtest_whisper_es.srt\n"
     ]
    }
   ],
   "source": [
    "tdir = workdir\n",
    "!ls \"$tdir\""
   ]
  },
  {
   "cell_type": "code",
   "execution_count": 4,
   "id": "64177a8a",
   "metadata": {},
   "outputs": [],
   "source": [
    "def get_epnumber(filename):\n",
    "    # cálculo de basename del archivo\n",
    "    basename = os.path.basename(filename)\n",
    "    \n",
    "    get_epnumber = re.compile(rf'{prefix}([^\\.]+).*')\n",
    "    match = get_epnumber.search(basename)\n",
    "    if match:\n",
    "        epnumber = match.group(1)\n",
    "        # Remover las partes relacionadas con vosk y whisper\n",
    "        epnumber = re.sub(r'_vosk[^\\.]*', '', epnumber)\n",
    "        epnumber = re.sub(r'_whisper[^\\.]*', '', epnumber)\n",
    "    return epnumber"
   ]
  },
  {
   "cell_type": "code",
   "execution_count": 5,
   "id": "8456657a",
   "metadata": {},
   "outputs": [
    {
     "name": "stdout",
     "output_type": "stream",
     "text": [
      "519_B\n",
      "250731_en\n",
      "250731\n"
     ]
    }
   ],
   "source": [
    "print(get_epnumber(f'{prefix}519_B_vosk.mp3'))\n",
    "print(get_epnumber(f'{prefix}250731_en_whisper.mp3'))\n",
    "print(get_epnumber(f'{prefix}250731.mp3'))"
   ]
  },
  {
   "cell_type": "code",
   "execution_count": 6,
   "id": "b6f496ff",
   "metadata": {},
   "outputs": [
    {
     "name": "stdout",
     "output_type": "stream",
     "text": [
      "['/home/jmrobles/Podcasts/Coffee Break/ep521_A.mp3', '/home/jmrobles/Podcasts/Coffee Break/ep521_B.mp3']\n"
     ]
    }
   ],
   "source": [
    "import glob\n",
    "mp3_files = glob.glob(os.path.join(tdir, f'{prefix}*.mp3'))\n",
    "print (mp3_files[:10])"
   ]
  },
  {
   "cell_type": "code",
   "execution_count": 7,
   "id": "a6f91c1e",
   "metadata": {},
   "outputs": [],
   "source": [
    "import pysrt"
   ]
  },
  {
   "cell_type": "code",
   "execution_count": 8,
   "id": "ffd5664c",
   "metadata": {},
   "outputs": [],
   "source": [
    "textpat = re.compile(r'^\\[(?P<speaker>.*)\\]: *(?P<spoken>.*)')"
   ]
  },
  {
   "cell_type": "code",
   "execution_count": 9,
   "id": "61d6db49",
   "metadata": {},
   "outputs": [],
   "source": [
    "def change_speaker_in_srt_file(srt_file, old_speaker, new_speaker):\n",
    "    subs = pysrt.open(srt_file, encoding='utf-8')\n",
    "    for sub in subs:\n",
    "        if sub.text.startswith(f\"[{old_speaker}]:\"):\n",
    "            sub.text = sub.text.replace(f\"[{old_speaker}]:\", f\"[{new_speaker}]:\")\n",
    "    subs.save(srt_file, encoding='utf-8')\n"
   ]
  },
  {
   "cell_type": "code",
   "execution_count": 10,
   "id": "5be6f9b7",
   "metadata": {},
   "outputs": [],
   "source": [
    "change_dict = {\n",
    "    \n",
    "   '521_A': {\n",
    "        'Valentín Martínez Pillet': 'Pedro Duque',\n",
    "   },\n",
    "   '521_B': {\n",
    "        'Unknown 1': 'Daniel Marín',\n",
    "   },\n",
    "   \n",
    "}"
   ]
  },
  {
   "cell_type": "code",
   "execution_count": 11,
   "id": "e0d0579c",
   "metadata": {},
   "outputs": [
    {
     "name": "stdout",
     "output_type": "stream",
     "text": [
      "Processing episode number: 521_A\n",
      "Processing subtitle file: /home/jmrobles/Podcasts/Coffee Break/ep521_A_whisper_es.srt\n",
      "Changing speaker from 'Valentín Martínez Pillet' to 'Pedro Duque' in /home/jmrobles/Podcasts/Coffee Break/ep521_A_whisper_es.srt\n",
      "Processing subtitle file: /home/jmrobles/Podcasts/Coffee Break/ep521_A_whisper_en.srt\n",
      "Changing speaker from 'Valentín Martínez Pillet' to 'Pedro Duque' in /home/jmrobles/Podcasts/Coffee Break/ep521_A_whisper_en.srt\n",
      "Processing episode number: 521_B\n",
      "Processing subtitle file: /home/jmrobles/Podcasts/Coffee Break/ep521_B_whisper_en.srt\n",
      "Changing speaker from 'Unknown 1' to 'Daniel Marín' in /home/jmrobles/Podcasts/Coffee Break/ep521_B_whisper_en.srt\n",
      "Processing subtitle file: /home/jmrobles/Podcasts/Coffee Break/ep521_B_whisper_es.srt\n",
      "Changing speaker from 'Unknown 1' to 'Daniel Marín' in /home/jmrobles/Podcasts/Coffee Break/ep521_B_whisper_es.srt\n"
     ]
    }
   ],
   "source": [
    "for mp3f in mp3_files:\n",
    "    epnumber = get_epnumber(mp3f)\n",
    "    if epnumber is None:\n",
    "        print(f\"Could not extract episode number from {mp3f}\")\n",
    "        continue\n",
    "    print (f\"Processing episode number: {epnumber}\")\n",
    "    if epnumber not in change_dict:\n",
    "        print(f\"No changes defined for episode number {epnumber}, skipping.\")\n",
    "        continue\n",
    "    for strf in glob.glob(os.path.join(tdir, f'{prefix}{epnumber}_*.srt')):\n",
    "        print(f\"Processing subtitle file: {strf}\")\n",
    "        for old_speaker, new_speaker in change_dict[epnumber].items():\n",
    "            print(f\"Changing speaker from '{old_speaker}' to '{new_speaker}' in {strf}\")\n",
    "            change_speaker_in_srt_file(strf, old_speaker, new_speaker)\n"
   ]
  },
  {
   "cell_type": "code",
   "execution_count": 12,
   "id": "c363d2ac",
   "metadata": {},
   "outputs": [
    {
     "name": "stdout",
     "output_type": "stream",
     "text": [
      "Processing HTML file: /home/jmrobles/Podcasts/Coffee Break/ep521_B_whisper_en.html\n",
      "Changing speaker from 'Unknown 1' to 'Daniel Marín' in HTML file /home/jmrobles/Podcasts/Coffee Break/ep521_B_whisper_en.html\n",
      "Changing comment from 'Unknown 1' to 'Daniel Marín' in /home/jmrobles/Podcasts/Coffee Break/ep521_B_whisper_en.html\n",
      "No comments found for speaker 'Unknown 1' in /home/jmrobles/Podcasts/Coffee Break/ep521_B_whisper_en.html\n",
      "Processing HTML file: /home/jmrobles/Podcasts/Coffee Break/ep521_B_whisper_audio_en.html\n",
      "Changing speaker from 'Unknown 1' to 'Daniel Marín' in HTML file /home/jmrobles/Podcasts/Coffee Break/ep521_B_whisper_audio_en.html\n",
      "Changing comment from 'Unknown 1' to 'Daniel Marín' in /home/jmrobles/Podcasts/Coffee Break/ep521_B_whisper_audio_en.html\n",
      "No comments found for speaker 'Unknown 1' in /home/jmrobles/Podcasts/Coffee Break/ep521_B_whisper_audio_en.html\n",
      "Processing HTML file: /home/jmrobles/Podcasts/Coffee Break/ep521_A_whisper_audio_en.html\n",
      "Changing speaker from 'Valentín Martínez Pillet' to 'Pedro Duque' in HTML file /home/jmrobles/Podcasts/Coffee Break/ep521_A_whisper_audio_en.html\n",
      "Changing comment from 'Valentín Martínez Pillet' to 'Pedro Duque' in /home/jmrobles/Podcasts/Coffee Break/ep521_A_whisper_audio_en.html\n",
      "No comments found for speaker 'Valentín Martínez Pillet' in /home/jmrobles/Podcasts/Coffee Break/ep521_A_whisper_audio_en.html\n",
      "Processing HTML file: /home/jmrobles/Podcasts/Coffee Break/ep521_B_whisper_es.html\n",
      "Changing speaker from 'Unknown 1' to 'Daniel Marín' in HTML file /home/jmrobles/Podcasts/Coffee Break/ep521_B_whisper_es.html\n",
      "Changing comment from 'Unknown 1' to 'Daniel Marín' in /home/jmrobles/Podcasts/Coffee Break/ep521_B_whisper_es.html\n",
      "No comments found for speaker 'Unknown 1' in /home/jmrobles/Podcasts/Coffee Break/ep521_B_whisper_es.html\n",
      "Processing HTML file: /home/jmrobles/Podcasts/Coffee Break/ep521_A_whisper_audio_es.html\n",
      "Changing speaker from 'Valentín Martínez Pillet' to 'Pedro Duque' in HTML file /home/jmrobles/Podcasts/Coffee Break/ep521_A_whisper_audio_es.html\n",
      "Changing comment from 'Valentín Martínez Pillet' to 'Pedro Duque' in /home/jmrobles/Podcasts/Coffee Break/ep521_A_whisper_audio_es.html\n",
      "No comments found for speaker 'Valentín Martínez Pillet' in /home/jmrobles/Podcasts/Coffee Break/ep521_A_whisper_audio_es.html\n",
      "Processing HTML file: /home/jmrobles/Podcasts/Coffee Break/ep521_A_whisper_en.html\n",
      "Changing speaker from 'Valentín Martínez Pillet' to 'Pedro Duque' in HTML file /home/jmrobles/Podcasts/Coffee Break/ep521_A_whisper_en.html\n",
      "Changing comment from 'Valentín Martínez Pillet' to 'Pedro Duque' in /home/jmrobles/Podcasts/Coffee Break/ep521_A_whisper_en.html\n",
      "No comments found for speaker 'Valentín Martínez Pillet' in /home/jmrobles/Podcasts/Coffee Break/ep521_A_whisper_en.html\n",
      "Processing HTML file: /home/jmrobles/Podcasts/Coffee Break/ep521_A_whisper_es.html\n",
      "Changing speaker from 'Valentín Martínez Pillet' to 'Pedro Duque' in HTML file /home/jmrobles/Podcasts/Coffee Break/ep521_A_whisper_es.html\n",
      "Changing comment from 'Valentín Martínez Pillet' to 'Pedro Duque' in /home/jmrobles/Podcasts/Coffee Break/ep521_A_whisper_es.html\n",
      "No comments found for speaker 'Valentín Martínez Pillet' in /home/jmrobles/Podcasts/Coffee Break/ep521_A_whisper_es.html\n",
      "Processing HTML file: /home/jmrobles/Podcasts/Coffee Break/ep521_B_whisper_audio_es.html\n",
      "Changing speaker from 'Unknown 1' to 'Daniel Marín' in HTML file /home/jmrobles/Podcasts/Coffee Break/ep521_B_whisper_audio_es.html\n",
      "Changing comment from 'Unknown 1' to 'Daniel Marín' in /home/jmrobles/Podcasts/Coffee Break/ep521_B_whisper_audio_es.html\n",
      "No comments found for speaker 'Unknown 1' in /home/jmrobles/Podcasts/Coffee Break/ep521_B_whisper_audio_es.html\n"
     ]
    }
   ],
   "source": [
    "html_whisper_files = glob.glob(os.path.join(tdir, f'{prefix}*_whisper*.html'))\n",
    "for htmlf in html_whisper_files:\n",
    "    epnumber = get_epnumber(htmlf)\n",
    "    if epnumber is None:\n",
    "        print(f\"Could not extract episode number from {mp3f}\")\n",
    "        continue\n",
    "    if epnumber not in change_dict:\n",
    "        print(f\"No changes defined for episode number {epnumber}, skipping.\")\n",
    "        continue\n",
    "    print(f\"Processing HTML file: {htmlf}\")\n",
    "    with open(htmlf, 'r', encoding='utf-8') as f:\n",
    "        soup = BeautifulSoup(f, 'html.parser')\n",
    "    # Localizar todos los textos de class \"speaker*\"\n",
    "    speakers = soup.find_all(class_=re.compile(r'speaker-\\d+'))\n",
    "    # Sustituir, si existe old_speaker por new_speaker\n",
    "    olds = []\n",
    "    news = []\n",
    "    for old_speaker, new_speaker in change_dict.get(epnumber, {}).items():\n",
    "        print(f\"Changing speaker from '{old_speaker}' to '{new_speaker}' in HTML file {htmlf}\")\n",
    "        for speaker in speakers:\n",
    "            # Cambiar el texto old_speaker for new_speaker dejando el resto del texto intacto\n",
    "            if old_speaker in speaker.text:\n",
    "                speaker.string = speaker.text.replace(old_speaker, new_speaker)\n",
    "        olds.append(old_speaker)\n",
    "        news.append(new_speaker)\n",
    "    # Localizar el texto <!-- old_speaker ha hablado ... y cambiar por <!-- new_speaker ha hablado ... -->\n",
    "    for oldsp in olds:\n",
    "        newsp = news[olds.index(oldsp)]\n",
    "        print(f\"Changing comment from '{oldsp}' to '{newsp}' in {htmlf}\")\n",
    "        comments = soup.find_all(\n",
    "            string=lambda text: isinstance(text, Comment)\n",
    "                                and f\"{oldsp} ha hablado\" in text\n",
    "        )\n",
    "        if not comments:\n",
    "            print(f\"No comments found for speaker '{oldsp}' in {htmlf}\")\n",
    "        for comment in comments:\n",
    "            print (f\"Changing comment from '{comment}' to include speaker '{newsp}'\")\n",
    "            new_text = comment.replace(oldsp, newsp)\n",
    "            comment.replace_with(Comment(new_text))\n",
    "\n",
    "    #Localizar el span \"speaker_summary\" y dentro de el una lista ul. Se borrará y rellenará con los hablantes\n",
    "    # tomados de los comentarios\n",
    "    speaker_summary = soup.find('span', id='speaker-summary')\n",
    "    if speaker_summary:\n",
    "        ul = speaker_summary.find('ul')\n",
    "        if ul:\n",
    "            # Borrar los elementos de la lista\n",
    "            ul.clear()\n",
    "        else:\n",
    "            print(f\"No 'ul' found in 'speaker-summary' span in {htmlf}\")\n",
    "    else:\n",
    "        print(f\"No 'speaker-summary' span found in {htmlf}\")\n",
    "\n",
    "    # Si no existe, crear un nuevo ul    \n",
    "    # Una vez cambiados algunos comentarios vamos a repasar todos los comentarios y \n",
    "    # componer la lista de hablantes\n",
    "    comments = soup.find_all(\n",
    "    string=lambda text: isinstance(text, Comment)\n",
    "                        and f\" ha hablado\" in text\n",
    "    )   \n",
    "    for comment in comments:\n",
    "        # Extraer el hablante del comentario\n",
    "        match = re.search(r'(.*?) ha hablado (.*?) en el segmento', comment)\n",
    "        if match:\n",
    "            speaker_name = match.group(1).strip()\n",
    "            speaker_time = match.group(2).strip()\n",
    "            # Si speaker_name empieza por \"Unknown\" o por \"?\" no lo añadimos\n",
    "            if speaker_name.startswith('Unknown') or speaker_name.startswith('?'):\n",
    "                continue\n",
    "            li = soup.new_tag('li')\n",
    "            li.string = f\"{speaker_name}: {speaker_time}\"\n",
    "            ul.append(li)\n",
    "                                    \n",
    "    \n",
    "    # Guardar el archivo modificado\n",
    "    with open(htmlf, 'w', encoding='utf-8') as f:\n",
    "        f.write(str(soup))\n",
    "\n"
   ]
  },
  {
   "cell_type": "code",
   "execution_count": null,
   "id": "8165b2ef",
   "metadata": {},
   "outputs": [],
   "source": []
  }
 ],
 "metadata": {
  "kernelspec": {
   "display_name": ".venv (3.12.9)",
   "language": "python",
   "name": "python3"
  },
  "language_info": {
   "codemirror_mode": {
    "name": "ipython",
    "version": 3
   },
   "file_extension": ".py",
   "mimetype": "text/x-python",
   "name": "python",
   "nbconvert_exporter": "python",
   "pygments_lexer": "ipython3",
   "version": "3.12.9"
  }
 },
 "nbformat": 4,
 "nbformat_minor": 5
}
