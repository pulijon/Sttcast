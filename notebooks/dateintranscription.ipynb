{
 "cells": [
  {
   "cell_type": "code",
   "execution_count": null,
   "id": "35f0311d",
   "metadata": {},
   "outputs": [],
   "source": [
    "from bs4 import BeautifulSoup\n",
    "import os\n",
    "import sys\n",
    "import re\n",
    "sys.path.append('..')\n",
    "from dateestimation import DateEstimation \n",
    "from tools.envvars import load_env_vars_from_directory"
   ]
  },
  {
   "cell_type": "code",
   "execution_count": null,
   "id": "b9ac87ab",
   "metadata": {},
   "outputs": [],
   "source": [
    "load_env_vars_from_directory('../.env')\n",
    "cal_file =os.getenv('PODCAST_CAL_FILE')\n",
    "if not cal_file:\n",
    "    raise ValueError(\"PODCAST_CAL_FILE environment variable is not set.\")\n",
    "if not os.path.exists(cal_file):\n",
    "    raise FileNotFoundError(f\"Calendar '{cal_file}' does not exist.\")\n",
    "\n",
    "prefix = os.getenv('PODCAST_PREFIX')\n",
    "if not prefix:\n",
    "    raise ValueError(\"PODCAST_PREFIX environment variable is not set.\")\n",
    "\n",
    "templates = os.getenv('PODCAST_TEMPLATES', '../templates')\n",
    "css = os.path.join(templates, 'podcast.css')\n",
    "if not os.path.exists(css):\n",
    "    raise FileNotFoundError(f\"CSS file '{css}' does not exist.\")\n",
    "\n",
    "print(f\"Using calendar file: {cal_file}\")\n",
    "print(f\"Using podcast prefix: {prefix}\")\n",
    "print(f\"Using templates directory: {templates}\")\n",
    "print(f\"Using CSS file: {css}\")"
   ]
  },
  {
   "cell_type": "code",
   "execution_count": null,
   "id": "41d4393c",
   "metadata": {},
   "outputs": [],
   "source": [
    "tdir = \"/home/jmrobles/Podcasts/Coffee Break/Archivo\"\n",
    "!ls \"$tdir\""
   ]
  },
  {
   "cell_type": "code",
   "execution_count": null,
   "id": "64177a8a",
   "metadata": {},
   "outputs": [],
   "source": [
    "def get_epnumber(filename):\n",
    "    # cálculo de basename del archivo\n",
    "    basename = os.path.basename(filename)\n",
    "    \n",
    "    get_epnumber = re.compile(rf'{prefix}(\\d+)_')\n",
    "    match = get_epnumber.search(basename)\n",
    "    if match:\n",
    "        epnumber = int(match.group(1))\n",
    "    return epnumber"
   ]
  },
  {
   "cell_type": "code",
   "execution_count": null,
   "id": "7b507166",
   "metadata": {},
   "outputs": [],
   "source": [
    "get_epnumber(os.path.join(tdir, 'ep510_B_whisper.html'))"
   ]
  },
  {
   "cell_type": "code",
   "execution_count": null,
   "id": "b6f496ff",
   "metadata": {},
   "outputs": [],
   "source": [
    "import glob\n",
    "html_files = glob.glob(os.path.join(tdir, f'ep*.html'))\n",
    "print (html_files[:10])"
   ]
  },
  {
   "cell_type": "code",
   "execution_count": null,
   "id": "bc655373",
   "metadata": {},
   "outputs": [],
   "source": [
    "de = DateEstimation(cal_file)\n"
   ]
  },
  {
   "cell_type": "code",
   "execution_count": null,
   "id": "b8aaaf71",
   "metadata": {},
   "outputs": [],
   "source": [
    "with open(css, 'r', encoding='utf-8') as f:\n",
    "    style_content = f.read()\n"
   ]
  },
  {
   "cell_type": "code",
   "execution_count": null,
   "id": "ca6102a3",
   "metadata": {},
   "outputs": [],
   "source": [
    "\n",
    "def put_style(htmlfile, style_content):\n",
    "    with open(htmlfile, 'r', encoding='utf-8') as f:\n",
    "        html_content = f.read()\n",
    "    soup = BeautifulSoup(html_content, 'html.parser')\n",
    "    existing_styles = soup.find('head').find_all('style')\n",
    "    # Borrar estilos existentes\n",
    "    for style in existing_styles:\n",
    "        style.decompose()\n",
    "    style_tag = soup.new_tag('style')\n",
    "    style_tag.string = style_content\n",
    "    soup.head.append(style_tag)\n",
    "    with open(htmlfile, 'w', encoding='utf-8') as f:\n",
    "        f.write(str(soup))"
   ]
  },
  {
   "cell_type": "code",
   "execution_count": null,
   "id": "280e7a8f",
   "metadata": {},
   "outputs": [],
   "source": [
    "\n",
    "    \n",
    "def put_date(html, epname, epnumber):\n",
    "    print(f\"Processing episode {epnumber} - {epname}\")\n",
    "    with open(html, 'r', encoding='utf-8') as f:\n",
    "        html_content = f.read()\n",
    "    soup = BeautifulSoup(html_content, 'html.parser')\n",
    "    date = de.estimate_date_from_epnumber(epnumber).strftime('%Y-%m-%d')\n",
    "    title = soup.find('h2', class_='title')\n",
    "    titles = title.find_all('span')\n",
    "    # Hay que reemplazar el contenido de title\n",
    "    title.clear()\n",
    "    tid = soup.new_tag('span', id='epid')\n",
    "    div = soup.new_tag('div')\n",
    "    div.append(f\"{epname} - {date}\")\n",
    "    tid.append(div)\n",
    "    title.append(tid)\n",
    "    for t in titles:\n",
    "        # Si es la de id 'epid', se sustituye por el nombre y la fecha\n",
    "        if t.get('id') == 'epid':\n",
    "            continue\n",
    "        title.append(t)\n",
    "\n",
    "    \n",
    "    # Guardar el HTML modificado y pretty-printed\n",
    "    with open(html, 'w', encoding='utf-8') as f:\n",
    "        # Utilizar str(soup) para obtener el HTML como cadena\n",
    "        # y escribirlo en el archivo\n",
    "        f.write(str(soup.prettify()))\n",
    "    \n"
   ]
  },
  {
   "cell_type": "code",
   "execution_count": null,
   "id": "86a491af",
   "metadata": {},
   "outputs": [],
   "source": [
    "# El notebook puede incluir fecha y/o cambiar estilos\n",
    "# Las variables siguientes controlan lo que se hace\n",
    "put_date_enabled = False\n",
    "put_style_enabled = True"
   ]
  },
  {
   "cell_type": "code",
   "execution_count": null,
   "id": "a7e978b3",
   "metadata": {},
   "outputs": [],
   "source": [
    "epname_regex = re.compile(rf'({prefix}.*)_(whisper|vosk).*')\n",
    "counter = 0\n",
    "for html in  html_files:\n",
    "    epname_fname = os.path.basename(html)\n",
    "    match = epname_regex.match(epname_fname)\n",
    "    if not match:\n",
    "        print(f\"Skipping {epname_fname} as it does not match the expected pattern.\")\n",
    "        continue\n",
    "    epname = match.group(1)\n",
    "    print(f\"Processing {epname} ({counter})...\")\n",
    "    counter += 1\n",
    "    # Obtener el número de episodio\n",
    "    epnumber = get_epnumber(html)\n",
    "    if put_date_enabled:\n",
    "        put_date(html, epname, epnumber)\n",
    "    if put_style_enabled:\n",
    "        put_style(html, style_content)\n",
    "\n",
    "\n",
    "   "
   ]
  },
  {
   "cell_type": "code",
   "execution_count": null,
   "id": "f3a0acd1",
   "metadata": {},
   "outputs": [],
   "source": []
  }
 ],
 "metadata": {
  "kernelspec": {
   "display_name": ".venv",
   "language": "python",
   "name": "python3"
  },
  "language_info": {
   "codemirror_mode": {
    "name": "ipython",
    "version": 3
   },
   "file_extension": ".py",
   "mimetype": "text/x-python",
   "name": "python",
   "nbconvert_exporter": "python",
   "pygments_lexer": "ipython3",
   "version": "3.12.9"
  }
 },
 "nbformat": 4,
 "nbformat_minor": 5
}
