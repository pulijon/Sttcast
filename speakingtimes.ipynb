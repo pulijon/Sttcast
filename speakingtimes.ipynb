{
 "cells": [
  {
   "cell_type": "markdown",
   "metadata": {},
   "source": [
    "# %% [markdown]\n",
    "# # Análisis de Utilización de Transcripciones\n",
    "# \n",
    "# Este notebook carga un fichero CSV con líneas en el formato:\n",
    "# \n",
    "# ```\n",
    "# ep498_B_whisper_es.html,Héctor Socas,00:41:09.56\n",
    "# ep498_B_whisper_es.html,Francis Villatoro,00:48:40.78\n",
    "# ep498_B_whisper_es.html,Gastón Giribet,00:29:51.14\n",
    "# ep498_B_whisper_es.html,Isabel Cordero,00:01:43.82\n",
    "# ```\n",
    "# \n",
    "# y genera gráficas para visualizar la utilización de cada hablante."
   ]
  },
  {
   "cell_type": "code",
   "execution_count": null,
   "metadata": {},
   "outputs": [],
   "source": [
    "import pandas as pd\n",
    "import matplotlib.pyplot as plt\n",
    "import matplotlib.dates as mdates\n",
    "from datetime import datetime, timedelta\n"
   ]
  },
  {
   "cell_type": "code",
   "execution_count": null,
   "metadata": {},
   "outputs": [],
   "source": [
    "# 1. Cargar el CSV\n",
    "SPFILE = '/home/jmrobles/Podcasts/Coffee Break/speakingtimes.csv'\n",
    "df = pd.read_csv(SPFILE, header=None, names=['archivo', 'hablante', 'tiempo'])\n",
    "df.head()"
   ]
  },
  {
   "cell_type": "code",
   "execution_count": null,
   "metadata": {},
   "outputs": [],
   "source": [
    "# 2. Convertir la columna 'tiempo' a objetos timedelta\n",
    "def convertir_a_timedelta(tiempo_str):\n",
    "    try:\n",
    "        tiempo_obj = datetime.strptime(tiempo_str, '%H:%M:%S.%f').time()\n",
    "        return timedelta(hours=tiempo_obj.hour, minutes=tiempo_obj.minute, seconds=tiempo_obj.second, microseconds=tiempo_obj.microsecond)\n",
    "    except ValueError:\n",
    "        try:\n",
    "            tiempo_obj = datetime.strptime(tiempo_str, '%M:%S.%f').time()\n",
    "            return timedelta(minutes=tiempo_obj.minute, seconds=tiempo_obj.second, microseconds=tiempo_obj.microsecond)\n",
    "        except ValueError:\n",
    "            try:\n",
    "                tiempo_obj = datetime.strptime(tiempo_str, '%S.%f').time()\n",
    "                return timedelta(seconds=tiempo_obj.second, microseconds=tiempo_obj.microsecond)\n",
    "            except ValueError:\n",
    "                return timedelta(0)\n",
    "\n",
    "df['tiempo_timedelta'] = df['tiempo'].apply(convertir_a_timedelta)\n",
    "df = df[1:]\n",
    "df.head()"
   ]
  },
  {
   "cell_type": "code",
   "execution_count": null,
   "metadata": {},
   "outputs": [],
   "source": [
    "# Incluir hablantes Unknown y ?? en la misma categoría\n",
    "df['hablante'] = df['hablante'].apply(lambda x: 'Sin asignar' if str(x).startswith('???') or str(x).startswith('Unknown') else x)\n",
    "df.head()"
   ]
  },
  {
   "cell_type": "code",
   "execution_count": null,
   "metadata": {},
   "outputs": [],
   "source": [
    "# Agrupar por hablante y sumar los tiempos\n",
    "totales_por_hablante = df.groupby('hablante')['tiempo_timedelta'].sum().reset_index()\n",
    "totales_por_hablante['tiempo_segundos'] = totales_por_hablante['tiempo_timedelta'].dt.total_seconds()\n",
    "\n",
    "# Cálculo de tiempo total y tiempo sin asignar\n",
    "tiempo_total_acumulado_segundos = totales_por_hablante['tiempo_segundos'].sum()\n",
    "sin_asignar_segundos = totales_por_hablante.loc[totales_por_hablante['hablante'] == 'Sin asignar', 'tiempo_segundos'].sum()\n",
    "\n",
    "print(f'Tiempo total acumulado: {tiempo_total_acumulado_segundos} segundos')\n",
    "print(f'Tiempo sin asignar: {sin_asignar_segundos} segundos')\n"
   ]
  },
  {
   "cell_type": "code",
   "execution_count": null,
   "metadata": {},
   "outputs": [],
   "source": [
    "\n",
    "\n",
    "# Eliminar la categoría 'Sin asignar' para el gráfico\n",
    "totales_por_hablante = totales_por_hablante[totales_por_hablante['hablante'] != 'Sin asignar']\n",
    "\n",
    "# Ordenar por tiempo total\n",
    "totales_por_hablante = totales_por_hablante.sort_values('tiempo_segundos', ascending=False)\n",
    "\n",
    "# Crear el gráfico de barras horizontales\n",
    "plt.figure(figsize=(12, 10))\n",
    "bars = plt.barh(totales_por_hablante['hablante'], totales_por_hablante['tiempo_segundos'], color='skyblue')\n",
    "\n",
    "# Formatear el eje x para mostrar el tiempo en formato legible\n",
    "def segundos_a_hhmmss(segundos):\n",
    "    horas = int(segundos // 3600)\n",
    "    minutos = int((segundos % 3600) // 60)\n",
    "    segundos = int(segundos % 60)\n",
    "    return f'{horas:02d}:{minutos:02d}:{segundos:02d}'\n",
    "\n",
    "plt.gca().xaxis.set_major_formatter(plt.FuncFormatter(lambda x, _: segundos_a_hhmmss(x)))\n",
    "\n",
    "# Añadir etiquetas y título\n",
    "plt.xlabel('Tiempo total')\n",
    "plt.ylabel('Hablan')\n",
    "plt.title('Tiempo total por hablante')\n",
    "\n",
    "# Mostrar los valores de tiempo a la derecha de las barras\n",
    "for bar, segundos in zip(bars, totales_por_hablante['tiempo_segundos']):\n",
    "    plt.text(bar.get_width() + 10, bar.get_y() + bar.get_height() / 2, segundos_a_hhmmss(segundos), va='center')\n",
    "\n",
    "# Calcular el tiempo total acumulado y el tiempo sin asignar en formato hh:mm:ss\n",
    "tiempo_total_acumulado_hhmmss = segundos_a_hhmmss(tiempo_total_acumulado_segundos)\n",
    "sin_asignar_hhmmss = segundos_a_hhmmss(sin_asignar_segundos)\n",
    "\n",
    "# Añadir anotación con el tiempo total acumulado y el tiempo sin asignar\n",
    "plt.text(0.95, 0.95, f'Tiempo total: {tiempo_total_acumulado_hhmmss}\\nSin asignar: {sin_asignar_hhmmss} ({sin_asignar_segundos/tiempo_total_acumulado_segundos*100:.2f}%)', color='black', fontsize=12,\n",
    "         transform=plt.gca().transAxes, ha='right', va='top')\n",
    "\n",
    "# 13. Mostrar el gráfico y guardarlo en un archivo\n",
    "# plt.show()\n",
    "plt.savefig('speakingtime.png')"
   ]
  }
 ],
 "metadata": {
  "kernelspec": {
   "display_name": ".venv",
   "language": "python",
   "name": "python3"
  },
  "language_info": {
   "codemirror_mode": {
    "name": "ipython",
    "version": 3
   },
   "file_extension": ".py",
   "mimetype": "text/x-python",
   "name": "python",
   "nbconvert_exporter": "python",
   "pygments_lexer": "ipython3",
   "version": "3.12.8"
  }
 },
 "nbformat": 4,
 "nbformat_minor": 2
}
